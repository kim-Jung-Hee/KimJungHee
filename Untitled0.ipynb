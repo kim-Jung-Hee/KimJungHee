{
  "nbformat": 4,
  "nbformat_minor": 0,
  "metadata": {
    "colab": {
      "provenance": [],
      "collapsed_sections": [],
      "authorship_tag": "ABX9TyMNlyAyWnQPzH23x/SKKhK2",
      "include_colab_link": true
    },
    "kernelspec": {
      "name": "python3",
      "display_name": "Python 3"
    },
    "language_info": {
      "name": "python"
    }
  },
  "cells": [
    {
      "cell_type": "markdown",
      "metadata": {
        "id": "view-in-github",
        "colab_type": "text"
      },
      "source": [
        "<a href=\"https://colab.research.google.com/github/kim-Jung-Hee/KimJungHee/blob/main/Untitled0.ipynb\" target=\"_parent\"><img src=\"https://colab.research.google.com/assets/colab-badge.svg\" alt=\"Open In Colab\"/></a>"
      ]
    },
    {
      "cell_type": "code",
      "execution_count": null,
      "metadata": {
        "colab": {
          "base_uri": "https://localhost:8080/"
        },
        "id": "FQKP9qVrB2Dh",
        "outputId": "1fc33726-f8a6-4f9f-c842-49f806e85a6e"
      },
      "outputs": [
        {
          "output_type": "stream",
          "name": "stdout",
          "text": [
            "3\n"
          ]
        }
      ],
      "source": [
        "# 202200906 김정희\n",
        "# 과제 1번\n",
        "a=1\n",
        "b=2\n",
        "print(a+b)"
      ]
    },
    {
      "cell_type": "code",
      "source": [
        "# 202200906 김정희 \n",
        "# 과제 2번\n",
        "id= Kim-Jung-Hee\n",
        "저장소=KimJungHee"
      ],
      "metadata": {
        "id": "cV7EaugjnEfG"
      },
      "execution_count": null,
      "outputs": []
    },
    {
      "cell_type": "code",
      "source": [
        "# 202200906 김정희\n",
        "# 과제 3번\n",
        "num=input('숫자를 입력하세요:')\n",
        "\n",
        "if int(num) > 30:\n",
        "  print('너무 많습니다. 30 이하의 정수를 입력해주세요.')\n",
        "\n",
        "elif int(num)<=30: \n",
        " for i in range(1,int(num)+1):\n",
        "  for j in range(1,i+1):\n",
        "    print(j, end='')\n",
        "  print()\n",
        "\n",
        "\n"
      ],
      "metadata": {
        "id": "jzqK8WejECy9",
        "colab": {
          "base_uri": "https://localhost:8080/"
        },
        "outputId": "a1345eb1-6015-498c-e23d-f9848f3593b2"
      },
      "execution_count": null,
      "outputs": [
        {
          "output_type": "stream",
          "name": "stdout",
          "text": [
            "숫자를 입력하세요:6\n",
            "1\n",
            "12\n",
            "123\n",
            "1234\n",
            "12345\n",
            "123456\n"
          ]
        }
      ]
    },
    {
      "cell_type": "markdown",
      "source": [],
      "metadata": {
        "id": "WZ5qL3vQnvMe"
      }
    },
    {
      "cell_type": "code",
      "source": [
        "# 202200906 김정희\n",
        "# 과제 4번\n",
        "from ast import Break\n",
        "while True:\n",
        " num=input('숫자를 입력하세요, 종료를 원하시면 stop을 입력하세요:')\n",
        "\n",
        " if num.isdecimal()==True:\n",
        "     if int(num)> 30  :\n",
        "       print('너무 많습니다. 30이하의 정수를 입력해주세요')\n",
        "     elif int(num) ==0: \n",
        "       print('너무 적습니다. 양의 정수를 입력해주세요.')\n",
        "\n",
        "     elif int(num)<=30: \n",
        "      for i in range(1,int(num)+1):\n",
        "       for j in range(1,i+1):\n",
        "         print(j, end='')\n",
        "       print()\n",
        "\n",
        " elif num=='stop':\n",
        "   print('종료합니다')\n",
        "   break\n",
        " else:\n",
        "   print('정수를 입력하세요!')"
      ],
      "metadata": {
        "colab": {
          "base_uri": "https://localhost:8080/"
        },
        "id": "aupiX9dT_RXx",
        "outputId": "6b9ee5e9-3ea9-40fc-a906-444246112c6a"
      },
      "execution_count": null,
      "outputs": [
        {
          "output_type": "stream",
          "name": "stdout",
          "text": [
            "숫자를 입력하세요, 종료를 원하시면 stop을 입력하세요:31\n",
            "너무 많습니다. 30이하의 정수를 입력해주세요\n",
            "숫자를 입력하세요, 종료를 원하시면 stop을 입력하세요:0\n",
            "너무 적습니다. 양의 정수를 입력해주세요.\n",
            "숫자를 입력하세요, 종료를 원하시면 stop을 입력하세요:3\n",
            "1\n",
            "12\n",
            "123\n",
            "숫자를 입력하세요, 종료를 원하시면 stop을 입력하세요:0.5\n",
            "정수를 입력하세요!\n",
            "숫자를 입력하세요, 종료를 원하시면 stop을 입력하세요:-7\n",
            "정수를 입력하세요!\n",
            "숫자를 입력하세요, 종료를 원하시면 stop을 입력하세요:stop\n",
            "종료합니다\n"
          ]
        }
      ]
    },
    {
      "cell_type": "code",
      "source": [
        "# stop 기능, 올바른 입력 공지 기능\n",
        "# 0.5가 str로 인식돼서 실패 \n",
        "# isnumeric, isdecimal 둘다 사용\n",
        "from ast import Break\n",
        "while True:\n",
        " num=input('숫자를 입력하세요, 종료를 원하시면 stop을 입력하세요:')\n",
        "\n",
        " if num.isnumeric()==True:\n",
        "   if num.isdecimal()==True:\n",
        "     c_num=int(num)\n",
        "     if c_num> 30:\n",
        "      print('너무 많습니다. 30 이하의 정수를 입력해주세요.')\n",
        "     elif c_num==0:\n",
        "       print('너무 적습니다. 양의 정수를 입력해주세요.')\n",
        "\n",
        "     elif c_num <=30: \n",
        "      for i in range(1,c_num+1):\n",
        "       for j in range(1,i+1):\n",
        "         print(j, end='')\n",
        "       print()\n",
        "    \n",
        "     else: \n",
        "       print('정수를 입력하세요:')\n",
        "\n",
        " elif num=='stop':\n",
        "   print('종료합니다')\n",
        "   break\n",
        " else:\n",
        "   print(type(num))\n",
        "   print('올바르게 입력하세요!')\n",
        "\n"
      ],
      "metadata": {
        "colab": {
          "base_uri": "https://localhost:8080/"
        },
        "id": "9FiOTTScgods",
        "outputId": "ca0b87e5-e4e1-4f9d-efb4-58e57c72887c"
      },
      "execution_count": null,
      "outputs": [
        {
          "output_type": "stream",
          "name": "stdout",
          "text": [
            "숫자를 입력하세요, 종료를 원하시면 stop을 입력하세요:0.5\n",
            "<class 'str'>\n",
            "올바르게 입력하세요!\n",
            "숫자를 입력하세요, 종료를 원하시면 stop을 입력하세요:stop\n",
            "종료합니다\n"
          ]
        }
      ]
    },
    {
      "cell_type": "code",
      "source": [
        "# 변수명.isnumeric 만 사용\n",
        "from ast import Break\n",
        "while True:\n",
        " num=input('숫자를 입력하세요, 종료를 원하시면 stop을 입력하세요:')\n",
        "\n",
        " if num.isnumeric()==True:\n",
        "     if int(num)> 30  :\n",
        "       print('너무 많습니다. 30이하의 정수를 입력해주세요')\n",
        "     elif int(num) ==0: \n",
        "       print('너무 적습니다. 양의 정수를 입력해주세요.')\n",
        "\n",
        "     elif int(num)<=30: \n",
        "      for i in range(1,int(num)+1):\n",
        "       for j in range(1,i+1):\n",
        "         print(j, end='')\n",
        "       print()\n",
        "\n",
        " elif num=='stop':\n",
        "   print('종료합니다')\n",
        "   break\n",
        " else:\n",
        "   print('정수를 입력하세요!')"
      ],
      "metadata": {
        "colab": {
          "base_uri": "https://localhost:8080/"
        },
        "id": "0HT2xPggIlW_",
        "outputId": "c101df04-31fb-41ff-8814-9243eb5e3a55"
      },
      "execution_count": null,
      "outputs": [
        {
          "output_type": "stream",
          "name": "stdout",
          "text": [
            "숫자를 입력하세요, 종료를 원하시면 stop을 입력하세요:stop\n",
            "종료합니다\n"
          ]
        }
      ]
    },
    {
      "cell_type": "code",
      "source": [
        "# 변수명.isnumeric, 변수명.isdeciaml 공부\n",
        "num=input('숫자를 입력하세요:')\n",
        "if num.isnumeric()==False:\n",
        "   print(num,'=False 입니다')\n",
        "else:\n",
        "   print(num,'=True 입니다.')\n",
        "  \n",
        "print(num, type(num))"
      ],
      "metadata": {
        "colab": {
          "base_uri": "https://localhost:8080/"
        },
        "id": "jfnV5VhQBdP1",
        "outputId": "022e2d26-1e3a-4f04-bbcf-d41834f0cf17"
      },
      "execution_count": null,
      "outputs": [
        {
          "output_type": "stream",
          "name": "stdout",
          "text": [
            "숫자를 입력하세요:0.5\n",
            "0.5 =False 입니다\n",
            "0.5 <class 'str'>\n"
          ]
        }
      ]
    },
    {
      "cell_type": "code",
      "source": [
        "\n",
        "num=input('숫자를 입력하세요:')\n",
        "\n",
        "if num.isnumeric()==True:\n",
        "   if num.isdecimal()==True:\n",
        "     if int(num)> 30:\n",
        "      print('너무 많습니다. 30 이하의 정수를 입력해주세요.')\n",
        "\n",
        "     elif int(num)<=30: \n",
        "      for i in range(1,int(num)+1):\n",
        "       for j in range(1,i+1):\n",
        "         print(j, end='')\n",
        "       print()\n",
        "    \n",
        "     else: \n",
        "       print('정수를 입력하세요:')\n",
        "\n",
        "else:\n",
        "   print('올바르게 입력하세요!')"
      ],
      "metadata": {
        "colab": {
          "base_uri": "https://localhost:8080/",
          "height": 400
        },
        "id": "XGTxWKwmmbkI",
        "outputId": "41e67876-0f9c-440f-f036-9c0dcf1194b6"
      },
      "execution_count": null,
      "outputs": [
        {
          "output_type": "error",
          "ename": "KeyboardInterrupt",
          "evalue": "ignored",
          "traceback": [
            "\u001b[0;31m---------------------------------------------------------------------------\u001b[0m",
            "\u001b[0;31mKeyboardInterrupt\u001b[0m                         Traceback (most recent call last)",
            "\u001b[0;32m<ipython-input-30-768baf6e065e>\u001b[0m in \u001b[0;36m<module>\u001b[0;34m\u001b[0m\n\u001b[1;32m      1\u001b[0m \u001b[0;31m# 202200906 김정희\u001b[0m\u001b[0;34m\u001b[0m\u001b[0;34m\u001b[0m\u001b[0;34m\u001b[0m\u001b[0m\n\u001b[1;32m      2\u001b[0m \u001b[0;31m# 과제 4번\u001b[0m\u001b[0;34m\u001b[0m\u001b[0;34m\u001b[0m\u001b[0;34m\u001b[0m\u001b[0m\n\u001b[0;32m----> 3\u001b[0;31m \u001b[0mnum\u001b[0m\u001b[0;34m=\u001b[0m\u001b[0minput\u001b[0m\u001b[0;34m(\u001b[0m\u001b[0;34m'숫자를 입력하세요:'\u001b[0m\u001b[0;34m)\u001b[0m\u001b[0;34m\u001b[0m\u001b[0;34m\u001b[0m\u001b[0m\n\u001b[0m\u001b[1;32m      4\u001b[0m \u001b[0;34m\u001b[0m\u001b[0m\n\u001b[1;32m      5\u001b[0m \u001b[0;32mif\u001b[0m \u001b[0mnum\u001b[0m\u001b[0;34m.\u001b[0m\u001b[0misnumeric\u001b[0m\u001b[0;34m(\u001b[0m\u001b[0;34m)\u001b[0m\u001b[0;34m==\u001b[0m\u001b[0;32mTrue\u001b[0m\u001b[0;34m:\u001b[0m\u001b[0;34m\u001b[0m\u001b[0;34m\u001b[0m\u001b[0m\n",
            "\u001b[0;32m/usr/local/lib/python3.7/dist-packages/ipykernel/kernelbase.py\u001b[0m in \u001b[0;36mraw_input\u001b[0;34m(self, prompt)\u001b[0m\n\u001b[1;32m    861\u001b[0m             \u001b[0mself\u001b[0m\u001b[0;34m.\u001b[0m\u001b[0m_parent_ident\u001b[0m\u001b[0;34m,\u001b[0m\u001b[0;34m\u001b[0m\u001b[0;34m\u001b[0m\u001b[0m\n\u001b[1;32m    862\u001b[0m             \u001b[0mself\u001b[0m\u001b[0;34m.\u001b[0m\u001b[0m_parent_header\u001b[0m\u001b[0;34m,\u001b[0m\u001b[0;34m\u001b[0m\u001b[0;34m\u001b[0m\u001b[0m\n\u001b[0;32m--> 863\u001b[0;31m             \u001b[0mpassword\u001b[0m\u001b[0;34m=\u001b[0m\u001b[0;32mFalse\u001b[0m\u001b[0;34m,\u001b[0m\u001b[0;34m\u001b[0m\u001b[0;34m\u001b[0m\u001b[0m\n\u001b[0m\u001b[1;32m    864\u001b[0m         )\n\u001b[1;32m    865\u001b[0m \u001b[0;34m\u001b[0m\u001b[0m\n",
            "\u001b[0;32m/usr/local/lib/python3.7/dist-packages/ipykernel/kernelbase.py\u001b[0m in \u001b[0;36m_input_request\u001b[0;34m(self, prompt, ident, parent, password)\u001b[0m\n\u001b[1;32m    902\u001b[0m             \u001b[0;32mexcept\u001b[0m \u001b[0mKeyboardInterrupt\u001b[0m\u001b[0;34m:\u001b[0m\u001b[0;34m\u001b[0m\u001b[0;34m\u001b[0m\u001b[0m\n\u001b[1;32m    903\u001b[0m                 \u001b[0;31m# re-raise KeyboardInterrupt, to truncate traceback\u001b[0m\u001b[0;34m\u001b[0m\u001b[0;34m\u001b[0m\u001b[0;34m\u001b[0m\u001b[0m\n\u001b[0;32m--> 904\u001b[0;31m                 \u001b[0;32mraise\u001b[0m \u001b[0mKeyboardInterrupt\u001b[0m\u001b[0;34m(\u001b[0m\u001b[0;34m\"Interrupted by user\"\u001b[0m\u001b[0;34m)\u001b[0m \u001b[0;32mfrom\u001b[0m \u001b[0;32mNone\u001b[0m\u001b[0;34m\u001b[0m\u001b[0;34m\u001b[0m\u001b[0m\n\u001b[0m\u001b[1;32m    905\u001b[0m             \u001b[0;32mexcept\u001b[0m \u001b[0mException\u001b[0m \u001b[0;32mas\u001b[0m \u001b[0me\u001b[0m\u001b[0;34m:\u001b[0m\u001b[0;34m\u001b[0m\u001b[0;34m\u001b[0m\u001b[0m\n\u001b[1;32m    906\u001b[0m                 \u001b[0mself\u001b[0m\u001b[0;34m.\u001b[0m\u001b[0mlog\u001b[0m\u001b[0;34m.\u001b[0m\u001b[0mwarning\u001b[0m\u001b[0;34m(\u001b[0m\u001b[0;34m\"Invalid Message:\"\u001b[0m\u001b[0;34m,\u001b[0m \u001b[0mexc_info\u001b[0m\u001b[0;34m=\u001b[0m\u001b[0;32mTrue\u001b[0m\u001b[0;34m)\u001b[0m\u001b[0;34m\u001b[0m\u001b[0;34m\u001b[0m\u001b[0m\n",
            "\u001b[0;31mKeyboardInterrupt\u001b[0m: Interrupted by user"
          ]
        }
      ]
    },
    {
      "cell_type": "code",
      "source": [],
      "metadata": {
        "id": "V8u37eTxh0__"
      },
      "execution_count": null,
      "outputs": []
    },
    {
      "cell_type": "code",
      "source": [
        "#경사 만들기 Test\n",
        "num=5\n",
        "for i in range(1,num+1):\n",
        "  for j in range(1,i+1):\n",
        "    print(j, end='')\n",
        "  print()"
      ],
      "metadata": {
        "colab": {
          "base_uri": "https://localhost:8080/"
        },
        "id": "_6rfDVFvbU4c",
        "outputId": "f6b19a1d-9eba-4c78-b1d4-9939569469ac"
      },
      "execution_count": null,
      "outputs": [
        {
          "output_type": "stream",
          "name": "stdout",
          "text": [
            "1\n",
            "12\n",
            "123\n",
            "1234\n",
            "12345\n"
          ]
        }
      ]
    }
  ]
}